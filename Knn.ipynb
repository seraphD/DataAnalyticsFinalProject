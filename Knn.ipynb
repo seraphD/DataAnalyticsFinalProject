{
 "metadata": {
  "language_info": {
   "codemirror_mode": {
    "name": "ipython",
    "version": 3
   },
   "file_extension": ".py",
   "mimetype": "text/x-python",
   "name": "python",
   "nbconvert_exporter": "python",
   "pygments_lexer": "ipython3",
   "version": "3.7.4-final"
  },
  "orig_nbformat": 2,
  "kernelspec": {
   "name": "python3",
   "display_name": "Python 3"
  }
 },
 "nbformat": 4,
 "nbformat_minor": 2,
 "cells": [
  {
   "cell_type": "code",
   "execution_count": null,
   "metadata": {
    "tags": []
   },
   "outputs": [],
   "source": [
    "from Ks import *\n",
    "import pickle\n",
    "\n",
    "# load data\n",
    "f = open(\"data.pickle\", \"rb\")\n",
    "data = pickle.load(f)"
   ]
  },
  {
   "cell_type": "code",
   "execution_count": null,
   "metadata": {},
   "outputs": [],
   "source": [
    "import numpy as np\n",
    "\n",
    "features = []\n",
    "labels = []\n",
    "\n",
    "for i in data:\n",
    "    tmp = [i.bigCategory, i.day, i.goal, i.backers]\n",
    "    features.append(tmp)\n",
    "    labels.append(i.pleged)\n",
    "\n",
    "X = np.array(features)\n",
    "y = np.array(labels)"
   ]
  },
  {
   "cell_type": "code",
   "execution_count": null,
   "metadata": {},
   "outputs": [],
   "source": [
    "from sklearn.preprocessing import OneHotEncoder, normalize\n",
    "\n",
    "# encode category\n",
    "category = X[:, [0]]\n",
    "enc = OneHotEncoder(handle_unknown='ignore')\n",
    "category = enc.fit_transform(category).toarray()"
   ]
  },
  {
   "cell_type": "code",
   "execution_count": null,
   "metadata": {},
   "outputs": [],
   "source": [
    "# max normalize\n",
    "d = X[:, [1,2,3]]\n",
    "d = normalize(d, axis=0, norm=\"max\")"
   ]
  },
  {
   "cell_type": "code",
   "execution_count": null,
   "metadata": {},
   "outputs": [],
   "source": [
    "X = np.concatenate((category, d), axis=1)"
   ]
  },
  {
   "source": [
    "from sklearn.model_selection import KFold\n",
    "\n",
    "# K-fold cross validation\n",
    "kf = KFold(n_splits=5)\n",
    "kf.get_n_splits(X)"
   ],
   "cell_type": "code",
   "metadata": {},
   "execution_count": null,
   "outputs": []
  },
  {
   "cell_type": "code",
   "execution_count": null,
   "metadata": {},
   "outputs": [],
   "source": [
    "from sklearn.neighbors import NearestNeighbors\n",
    "import pickle as pkl\n",
    "from sklearn.metrics import classification_report, confusion_matrix, accuracy_score\n",
    "\n",
    "best_acc = 0\n",
    "\n",
    "for i in range(10, 20):\n",
    "\n",
    "    for j, [train_index, test_index] in enumerate(kf.split(X)):\n",
    "        X_train = X[train_index, :]\n",
    "        y_train = y[train_index]\n",
    "\n",
    "        X_test = X[test_index, :]\n",
    "        y_test = y[test_index]\n",
    "\n",
    "        print(\"Building on K={} fold={}\".format(i, j))\n",
    "        neigh = NearestNeighbors(n_neighbors=i)\n",
    "        neigh.fit(X_train)\n",
    "\n",
    "        print(\"Testing...\")\n",
    "        n = neigh.kneighbors(X_test, i, return_distance=False)\n",
    "        pledge_predict = []\n",
    "        state_predict = []\n",
    "        actual_state = []\n",
    "\n",
    "        for inx, nbrs in enumerate(n):\n",
    "            nbrPlege = y_train[nbrs]\n",
    "            p = np.mean(nbrPlege)\n",
    "            pledge_predict.append(p)\n",
    "            goal = data[test_index[inx]].goal\n",
    "            state = data[test_index[inx]].state\n",
    "            actual_state.append(state)\n",
    "\n",
    "            if (p >= goal and state) or (p < goal and not state):\n",
    "                state_predict.append(True)\n",
    "            else:\n",
    "                state_predict.append(False)\n",
    "        \n",
    "        RMSE = np.sqrt((np.square(pledge_predict - y_test).mean(axis=0)))\n",
    "        tn, fp, fn, tp = confusion_matrix(state_predict, actual_state).ravel()\n",
    "        acc = accuracy_score(state_predict, actual_state)\n",
    "        \n",
    "        print(\"           Positive       Negative\")\n",
    "        print(\"Positive     {}             {}\".format(tn, fp))\n",
    "        print(\"Negative     {}             {}\".format(fn, tp))\n",
    "\n",
    "        print(classification_report(state_predict, actual_state))\n",
    "        print(\"Accuracy: {}\".format(acc))\n",
    "        print(\"RMSE: {}\".format(RMSE))\n",
    "\n",
    "        if acc > best_acc:\n",
    "            # save best classifier\n",
    "            clf = open(\"KNN_clf.pkl\", \"wb\")\n",
    "            pkl.dump(neigh, clf)\n",
    "            clf.close()\n",
    "    "
   ]
  },
  {
   "source": [],
   "cell_type": "code",
   "metadata": {},
   "execution_count": null,
   "outputs": []
  },
  {
   "cell_type": "code",
   "execution_count": null,
   "metadata": {},
   "outputs": [],
   "source": []
  }
 ]
}