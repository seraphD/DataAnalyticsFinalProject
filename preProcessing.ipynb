{
 "cells": [
  {
   "cell_type": "code",
   "execution_count": 18,
   "metadata": {},
   "outputs": [],
   "source": [
    "import csv\n",
    "\n",
    "reader1 = None\n",
    "reader2 = None\n",
    "\n",
    "with open(\"ks-projects-201612.csv\", \"r\", encoding=\"GB18030\") as f1, open(\"ks-projects-201801.csv\", encoding=\"utf-8\") as f2:\n",
    "    reader1 = list(csv.reader(f1))\n",
    "    reader2 = list(csv.reader(f2))"
   ]
  },
  {
   "cell_type": "code",
   "execution_count": 62,
   "metadata": {},
   "outputs": [],
   "source": [
    "from datetime import datetime\n",
    "\n",
    "class Ks:\n",
    "    id = 0\n",
    "    name = \"\"\n",
    "    category = \"\"\n",
    "    mainCategory = \"\"\n",
    "    day = 0\n",
    "    goal = 0\n",
    "    state = True\n",
    "    \n",
    "    def __init__(self, name, category, mainCategory, day, goal, state):\n",
    "        self.name = name\n",
    "        self.category = category\n",
    "        self.mainCategoty = mainCategory\n",
    "        self.day = day\n",
    "        self.goal = goal\n",
    "        self.state = state\n",
    "    \n",
    "data = []\n",
    "for i in range(1, len(reader1)):\n",
    "    row = reader1[i]\n",
    "    \n",
    "    if row[4] != \"USD\" or row[9] == \"live\" or row[9] == \"undefined\":\n",
    "        continue\n",
    "    \n",
    "    deadline = datetime.strptime(row[5].split(\" \")[0].replace(\"/\", \"-\"), '%Y-%m-%d')\n",
    "    launch = datetime.strptime(row[7].split(\" \")[0].replace(\"/\", \"-\"), '%Y-%m-%d')\n",
    "    \n",
    "    day = (deadline - launch).days\n",
    "    state = True if row[9] == \"successful\" else False\n",
    "    \n",
    "\n",
    "    ks = Ks(row[1], row[2], row[3], day, row[6], state)\n",
    "    data.append(ks)\n",
    "\n",
    "for i in range(1, len(reader2)):\n",
    "    row = reader2[i]\n",
    "    \n",
    "    if row[4] != \"USD\" or row[9] == \"live\" or row[9] == \"undefined\":\n",
    "        continue\n",
    "    \n",
    "    deadline = datetime.strptime(row[5].split(\" \")[0].replace(\"/\", \"-\"), '%Y-%m-%d')\n",
    "    launch = datetime.strptime(row[7].split(\" \")[0].replace(\"/\", \"-\"), '%Y-%m-%d')\n",
    "    \n",
    "    day = (deadline - launch).days\n",
    "    state = True if row[9] == \"successful\" else False\n",
    "    \n",
    "    ks = Ks(row[1], row[2], row[3], day, row[6], state)\n",
    "    data.append(ks)"
   ]
  },
  {
   "cell_type": "code",
   "execution_count": 63,
   "metadata": {},
   "outputs": [],
   "source": [
    "import pickle\n",
    "\n",
    "with open(\"data.pickle\", \"wb\") as dataFile:\n",
    "    pickle.dump(data, dataFile)"
   ]
  },
  {
   "cell_type": "code",
   "execution_count": null,
   "metadata": {},
   "outputs": [],
   "source": []
  },
  {
   "cell_type": "code",
   "execution_count": null,
   "metadata": {},
   "outputs": [],
   "source": []
  }
 ],
 "metadata": {
  "kernelspec": {
   "display_name": "Python 3",
   "language": "python",
   "name": "python3"
  },
  "language_info": {
   "codemirror_mode": {
    "name": "ipython",
    "version": 3
   },
   "file_extension": ".py",
   "mimetype": "text/x-python",
   "name": "python",
   "nbconvert_exporter": "python",
   "pygments_lexer": "ipython3",
   "version": "3.7.4"
  }
 },
 "nbformat": 4,
 "nbformat_minor": 2
}
