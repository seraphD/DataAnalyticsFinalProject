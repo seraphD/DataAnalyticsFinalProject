{
 "cells": [
  {
   "cell_type": "code",
   "execution_count": null,
   "metadata": {},
   "outputs": [],
   "source": [
    "import csv\n",
    "\n",
    "reader1 = None\n",
    "reader2 = None\n",
    "\n",
    "with open(\"ks-projects-201612.csv\", \"r\", encoding=\"GB18030\") as f1, open(\"ks-projects-201801.csv\", encoding=\"ISO-8859-1\") as f2:\n",
    "    reader1 = list(csv.reader(f1))\n",
    "    reader2 = list(csv.reader(f2))"
   ]
  },
  {
   "cell_type": "code",
   "execution_count": 1,
   "metadata": {},
   "outputs": [
    {
     "output_type": "error",
     "ename": "ModuleNotFoundError",
     "evalue": "No module named 'pandas'",
     "traceback": [
      "\u001b[1;31m---------------------------------------------------------------------------\u001b[0m",
      "\u001b[1;31mModuleNotFoundError\u001b[0m                       Traceback (most recent call last)",
      "\u001b[1;32m<ipython-input-1-ea01ff0253c6>\u001b[0m in \u001b[0;36m<module>\u001b[1;34m\u001b[0m\n\u001b[1;32m----> 1\u001b[1;33m \u001b[1;32mfrom\u001b[0m \u001b[0mpandas\u001b[0m \u001b[1;32mimport\u001b[0m \u001b[0mSeries\u001b[0m\u001b[1;33m\u001b[0m\u001b[1;33m\u001b[0m\u001b[0m\n\u001b[0m\u001b[0;32m      2\u001b[0m \u001b[1;33m\u001b[0m\u001b[0m\n",
      "\u001b[1;31mModuleNotFoundError\u001b[0m: No module named 'pandas'"
     ]
    }
   ],
   "source": [
    "from pandas import Series\n",
    "\n"
   ]
  },
  {
   "cell_type": "code",
   "execution_count": null,
   "metadata": {
    "tags": []
   },
   "outputs": [],
   "source": [
    "from datetime import datetime\n",
    "from Ks import *\n",
    "    \n",
    "data = []\n",
    "for i in range(1, len(reader1)):\n",
    "    row = reader1[i]\n",
    "    \n",
    "    if row[4] != \"USD\" or row[9] == \"live\" or row[9] == \"undefined\":\n",
    "        continue\n",
    "    \n",
    "    deadline = datetime.strptime(row[5].split(\" \")[0].replace(\"/\", \"-\"), '%Y-%m-%d')\n",
    "    launch = datetime.strptime(row[7].split(\" \")[0].replace(\"/\", \"-\"), '%Y-%m-%d')\n",
    "    \n",
    "    day = (deadline - launch).days\n",
    "    state = True if row[9] == \"successful\" else False\n",
    "    \n",
    "    ks = Ks(row[1], row[2], row[3], day, float(row[6]), float(row[8]), int(row[10]), state)\n",
    "    data.append(ks)\n",
    "\n",
    "for i in range(1, len(reader2)):\n",
    "    row = reader2[i]\n",
    "    \n",
    "    if row[4] != \"USD\" or row[9] == \"live\" or row[9] == \"undefined\":\n",
    "        continue\n",
    "    \n",
    "    deadline = datetime.strptime(row[5].split(\" \")[0].replace(\"/\", \"-\"), '%Y-%m-%d')\n",
    "    launch = datetime.strptime(row[7].split(\" \")[0].replace(\"/\", \"-\"), '%Y-%m-%d')\n",
    "    \n",
    "    day = (deadline - launch).days\n",
    "    state = True if row[9] == \"successful\" else False\n",
    "    \n",
    "    ks = Ks(row[1], row[2], row[3], int(day), float(row[6]), float(row[8]), int(row[10]), state)\n",
    "    data.append(ks)"
   ]
  },
  {
   "cell_type": "code",
   "execution_count": null,
   "metadata": {},
   "outputs": [],
   "source": [
    "import pickle\n",
    "\n",
    "with open(\"data.pickle\", \"wb\") as dataFile:\n",
    "    pickle.dump(data, dataFile)"
   ]
  },
  {
   "cell_type": "code",
   "execution_count": null,
   "metadata": {},
   "outputs": [],
   "source": []
  },
  {
   "cell_type": "code",
   "execution_count": null,
   "metadata": {},
   "outputs": [],
   "source": []
  }
 ],
 "metadata": {
  "kernelspec": {
   "name": "python3",
   "display_name": "Python 3"
  },
  "language_info": {
   "codemirror_mode": {
    "name": "ipython",
    "version": 3
   },
   "file_extension": ".py",
   "mimetype": "text/x-python",
   "name": "python",
   "nbconvert_exporter": "python",
   "pygments_lexer": "ipython3",
   "version": "3.8.1-final"
  }
 },
 "nbformat": 4,
 "nbformat_minor": 2
}