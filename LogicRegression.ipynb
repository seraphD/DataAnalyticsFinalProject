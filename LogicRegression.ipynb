{
 "metadata": {
  "language_info": {
   "codemirror_mode": {
    "name": "ipython",
    "version": 3
   },
   "file_extension": ".py",
   "mimetype": "text/x-python",
   "name": "python",
   "nbconvert_exporter": "python",
   "pygments_lexer": "ipython3",
   "version": "3.7.4-final"
  },
  "orig_nbformat": 2,
  "kernelspec": {
   "name": "python3",
   "display_name": "Python 3"
  }
 },
 "nbformat": 4,
 "nbformat_minor": 2,
 "cells": [
  {
   "cell_type": "code",
   "execution_count": 1,
   "metadata": {},
   "outputs": [],
   "source": [
    "from Ks import *\n",
    "import pickle as pkl\n",
    "\n",
    "# load data\n",
    "f = open(\"data.pickle\", \"rb\")\n",
    "data = pkl.load(f)"
   ]
  },
  {
   "cell_type": "code",
   "execution_count": 2,
   "metadata": {},
   "outputs": [],
   "source": [
    "import numpy as np\n",
    "\n",
    "features = []\n",
    "labels = []\n",
    "state = []\n",
    "\n",
    "for i in data:\n",
    "    tmp = [i.bigCategory, i.day, i.goal, i.backers]\n",
    "    features.append(tmp)\n",
    "    labels.append(i.pleged)\n",
    "    state.append(i.state)\n",
    "\n",
    "X = np.array(features)\n",
    "y = np.array(labels)\n",
    "y_state = np.array(state)"
   ]
  },
  {
   "cell_type": "code",
   "execution_count": 3,
   "metadata": {},
   "outputs": [],
   "source": [
    "from sklearn.preprocessing import OneHotEncoder, normalize\n",
    "\n",
    "# one hot encode category\n",
    "category = X[:, [0]]\n",
    "enc = OneHotEncoder(handle_unknown='ignore')\n",
    "category = enc.fit_transform(category).toarray()"
   ]
  },
  {
   "cell_type": "code",
   "execution_count": 4,
   "metadata": {},
   "outputs": [],
   "source": [
    "# max normalize numeric features\n",
    "d = X[:, [1, 3]]\n",
    "d = normalize(d, axis=0, norm=\"max\")\n",
    "\n",
    "goal = X[:, 2].reshape(1, -1)\n",
    "y = np.concatenate((y, np.squeeze(goal)), axis=0)\n",
    "\n",
    "y = normalize(y.reshape(-1, 1), axis=0, norm=\"max\").reshape(1, -1)\n",
    "y = np.squeeze(y)\n",
    "\n",
    "mid = int(len(y) / 2)\n",
    "goal = y[mid:]\n",
    "y = y[:mid]"
   ]
  },
  {
   "cell_type": "code",
   "execution_count": 5,
   "metadata": {},
   "outputs": [],
   "source": [
    "X = np.concatenate((category, d, goal.reshape(-1, 1)), axis=1)"
   ]
  },
  {
   "cell_type": "code",
   "execution_count": 11,
   "metadata": {},
   "outputs": [],
   "source": [
    "from sklearn.linear_model import  LogisticRegression\n",
    "from sklearn.model_selection import cross_val_predict\n",
    "from sklearn.metrics import classification_report, confusion_matrix, accuracy_score, mean_squared_error\n",
    "\n",
    "model = LogisticRegression()\n",
    "predict = cross_val_predict(model, X, y_state, cv=5)\n",
    "m = confusion_matrix(y_state, predict)"
   ]
  },
  {
   "cell_type": "code",
   "execution_count": 14,
   "metadata": {},
   "outputs": [
    {
     "output_type": "execute_result",
     "data": {
      "text/plain": [
       "0.6590120825230096"
      ]
     },
     "metadata": {},
     "execution_count": 14
    }
   ],
   "source": [
    " tn, fp, fn, tp = m.ravel()\n",
    " (tn+tp)/(tn + fp + fn + tp)"
   ]
  },
  {
   "cell_type": "code",
   "execution_count": 16,
   "metadata": {},
   "outputs": [
    {
     "output_type": "execute_result",
     "data": {
      "text/plain": [
       "64867"
      ]
     },
     "metadata": {},
     "execution_count": 16
    }
   ],
   "source": [
    "tp"
   ]
  },
  {
   "cell_type": "code",
   "execution_count": null,
   "metadata": {},
   "outputs": [],
   "source": []
  }
 ]
}